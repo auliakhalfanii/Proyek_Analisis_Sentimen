{
  "nbformat": 4,
  "nbformat_minor": 0,
  "metadata": {
    "colab": {
      "provenance": []
    },
    "kernelspec": {
      "name": "python3",
      "display_name": "Python 3"
    },
    "language_info": {
      "name": "python"
    }
  },
  "cells": [
    {
      "cell_type": "code",
      "execution_count": 11,
      "metadata": {
        "id": "HEjw_S5VEHsU"
      },
      "outputs": [],
      "source": [
        "from google_play_scraper import reviews, Sort\n",
        "import csv\n",
        "import time"
      ]
    },
    {
      "cell_type": "code",
      "source": [
        "package_name = 'com.shopee.id'\n",
        "total_target = 10000\n",
        "lang = 'id'\n",
        "country = 'id'\n",
        "\n",
        "all_reviews = []\n",
        "token = None"
      ],
      "metadata": {
        "id": "-wgOBg-PEUrw"
      },
      "execution_count": 12,
      "outputs": []
    },
    {
      "cell_type": "code",
      "source": [
        "while len(all_reviews) < total_target:\n",
        "    result, token = reviews(\n",
        "        package_name,\n",
        "        lang=lang,\n",
        "        country=country,\n",
        "        sort=Sort.NEWEST,\n",
        "        count=200,\n",
        "        continuation_token=token\n",
        "    )\n",
        "\n",
        "    all_reviews.extend(result)\n",
        "    print(f\"Review terkumpul: {len(all_reviews)}\")\n",
        "\n",
        "    if not token:\n",
        "        break\n",
        "\n",
        "    time.sleep(1)"
      ],
      "metadata": {
        "id": "IEr28tr0EXmo",
        "colab": {
          "base_uri": "https://localhost:8080/"
        },
        "outputId": "38013e17-4109-44f2-918a-7859da375cf5"
      },
      "execution_count": 13,
      "outputs": [
        {
          "output_type": "stream",
          "name": "stdout",
          "text": [
            "Review terkumpul: 200\n",
            "Review terkumpul: 400\n",
            "Review terkumpul: 600\n",
            "Review terkumpul: 800\n",
            "Review terkumpul: 1000\n",
            "Review terkumpul: 1200\n",
            "Review terkumpul: 1400\n",
            "Review terkumpul: 1600\n",
            "Review terkumpul: 1800\n",
            "Review terkumpul: 2000\n",
            "Review terkumpul: 2200\n",
            "Review terkumpul: 2400\n",
            "Review terkumpul: 2600\n",
            "Review terkumpul: 2800\n",
            "Review terkumpul: 3000\n",
            "Review terkumpul: 3200\n",
            "Review terkumpul: 3400\n",
            "Review terkumpul: 3600\n",
            "Review terkumpul: 3800\n",
            "Review terkumpul: 4000\n",
            "Review terkumpul: 4200\n",
            "Review terkumpul: 4400\n",
            "Review terkumpul: 4600\n",
            "Review terkumpul: 4800\n",
            "Review terkumpul: 5000\n",
            "Review terkumpul: 5200\n",
            "Review terkumpul: 5400\n",
            "Review terkumpul: 5600\n",
            "Review terkumpul: 5800\n",
            "Review terkumpul: 6000\n",
            "Review terkumpul: 6200\n",
            "Review terkumpul: 6400\n",
            "Review terkumpul: 6600\n",
            "Review terkumpul: 6800\n",
            "Review terkumpul: 7000\n",
            "Review terkumpul: 7200\n",
            "Review terkumpul: 7400\n",
            "Review terkumpul: 7600\n",
            "Review terkumpul: 7800\n",
            "Review terkumpul: 8000\n",
            "Review terkumpul: 8200\n",
            "Review terkumpul: 8400\n",
            "Review terkumpul: 8600\n",
            "Review terkumpul: 8800\n",
            "Review terkumpul: 9000\n",
            "Review terkumpul: 9200\n",
            "Review terkumpul: 9400\n",
            "Review terkumpul: 9600\n",
            "Review terkumpul: 9800\n",
            "Review terkumpul: 10000\n"
          ]
        }
      ]
    },
    {
      "cell_type": "code",
      "source": [
        "all_reviews = all_reviews[:total_target]\n",
        "\n",
        "with open('ulasan_shopee.csv', mode='w', newline='', encoding='utf-8') as file:\n",
        "    writer = csv.writer(file)\n",
        "    writer.writerow(['Review'])\n",
        "\n",
        "    for review in all_reviews:\n",
        "        writer.writerow([review['content']])"
      ],
      "metadata": {
        "id": "vVcxHJMREaKH"
      },
      "execution_count": 14,
      "outputs": []
    },
    {
      "cell_type": "code",
      "source": [
        "from google.colab import files\n",
        "files.download('ulasan_shopee.csv')"
      ],
      "metadata": {
        "colab": {
          "base_uri": "https://localhost:8080/",
          "height": 17
        },
        "id": "CCK06IbxEcZX",
        "outputId": "5fadef21-efef-4d6b-e99d-e0348f1255ab"
      },
      "execution_count": 17,
      "outputs": [
        {
          "output_type": "display_data",
          "data": {
            "text/plain": [
              "<IPython.core.display.Javascript object>"
            ],
            "application/javascript": [
              "\n",
              "    async function download(id, filename, size) {\n",
              "      if (!google.colab.kernel.accessAllowed) {\n",
              "        return;\n",
              "      }\n",
              "      const div = document.createElement('div');\n",
              "      const label = document.createElement('label');\n",
              "      label.textContent = `Downloading \"${filename}\": `;\n",
              "      div.appendChild(label);\n",
              "      const progress = document.createElement('progress');\n",
              "      progress.max = size;\n",
              "      div.appendChild(progress);\n",
              "      document.body.appendChild(div);\n",
              "\n",
              "      const buffers = [];\n",
              "      let downloaded = 0;\n",
              "\n",
              "      const channel = await google.colab.kernel.comms.open(id);\n",
              "      // Send a message to notify the kernel that we're ready.\n",
              "      channel.send({})\n",
              "\n",
              "      for await (const message of channel.messages) {\n",
              "        // Send a message to notify the kernel that we're ready.\n",
              "        channel.send({})\n",
              "        if (message.buffers) {\n",
              "          for (const buffer of message.buffers) {\n",
              "            buffers.push(buffer);\n",
              "            downloaded += buffer.byteLength;\n",
              "            progress.value = downloaded;\n",
              "          }\n",
              "        }\n",
              "      }\n",
              "      const blob = new Blob(buffers, {type: 'application/binary'});\n",
              "      const a = document.createElement('a');\n",
              "      a.href = window.URL.createObjectURL(blob);\n",
              "      a.download = filename;\n",
              "      div.appendChild(a);\n",
              "      a.click();\n",
              "      div.remove();\n",
              "    }\n",
              "  "
            ]
          },
          "metadata": {}
        },
        {
          "output_type": "display_data",
          "data": {
            "text/plain": [
              "<IPython.core.display.Javascript object>"
            ],
            "application/javascript": [
              "download(\"download_d9b2e52d-8631-4d0a-84bb-7e9f1d022043\", \"ulasan_shopee.csv\", 557122)"
            ]
          },
          "metadata": {}
        }
      ]
    }
  ]
}